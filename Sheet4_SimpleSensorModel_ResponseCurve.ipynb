{
  "nbformat": 4,
  "nbformat_minor": 0,
  "metadata": {
    "colab": {
      "name": "Sheet2_SimpleSensorModel_ResponseCurve",
      "provenance": [],
      "collapsed_sections": [
        "UDDTEToJ9xto"
      ],
      "toc_visible": true,
      "authorship_tag": "ABX9TyN5Ju4zcnu0UPQuMYxkJ4t+",
      "include_colab_link": true
    },
    "kernelspec": {
      "name": "python3",
      "display_name": "Python 3"
    },
    "language_info": {
      "name": "python"
    }
  },
  "cells": [
    {
      "cell_type": "markdown",
      "metadata": {
        "id": "view-in-github",
        "colab_type": "text"
      },
      "source": [
        "<a href=\"https://colab.research.google.com/github/paulodowd/GoogleColab_Simple2DSimulator/blob/main/Sheet2_SimpleSensorModel_ResponseCurve.ipynb\" target=\"_parent\"><img src=\"https://colab.research.google.com/assets/colab-badge.svg\" alt=\"Open In Colab\"/></a>"
      ]
    },
    {
      "cell_type": "markdown",
      "metadata": {
        "id": "UDDTEToJ9xto"
      },
      "source": [
        "# Introduction"
      ]
    },
    {
      "cell_type": "markdown",
      "metadata": {
        "id": "FeXvxxGH812H"
      },
      "source": [
        "In the simulation we have explored, the proximity sensors returned an exact distance to an obstacle.  In reality, sensors do not work perfectly.  A more accurate, precise and reliable a sensor will often cost more money.  \n",
        "\n",
        "If we are going to use a simulator to develop control solutions for robotics, then it is important that the simulator models the real performance of hardware as best as possible.  If the simulation does not model reality well, then our control solution is unlikely to work well when we transfer it from simulation to the real robot.  \n",
        "\n",
        "In robotics, this issue of how well a simulated solution transfers to a real robot is called the **reality gap**, and continues to be an active area of research.\n",
        "\n",
        "In this exercise sheet we will look at a low cost proximity sensor. We will use this sensor to understand some of the steps we might take to improve how well a simulation represents reality.  "
      ]
    },
    {
      "cell_type": "markdown",
      "metadata": {
        "id": "phZaSNKAzS1T"
      },
      "source": [
        ""
      ]
    },
    {
      "cell_type": "markdown",
      "metadata": {
        "id": "q9XyTwypnmW9"
      },
      "source": [
        "## The Simulated Sensor Response"
      ]
    },
    {
      "cell_type": "markdown",
      "metadata": {
        "id": "QxselOdxnpmu"
      },
      "source": [
        "Our 2D Simulation uses a very simple model of a sensor.  If we take a closer look at the `ProxSensor_c` class, we see the following code storing **distance** as the **sensor reading**:\n",
        "\n",
        "```python\n",
        "    ...\n",
        "\n",
        "    # If the current reading is -1 then that means\n",
        "    # this is the first valid reading, and we update\n",
        "    # the sensor.\n",
        "    if self.reading < 0:\n",
        "      self.reading = distance\n",
        "\n",
        "    # If the sensor already has a valid reading (>-1)\n",
        "    # then we only store the new reading if it is closer.\n",
        "    # (closer obstructions block the field of view)\n",
        "    if self.reading > 0:\n",
        "      if distance < self.reading:\n",
        "        self.reading = distance\n",
        "\n",
        "    ...\n",
        "```\n",
        "\n",
        "We can also find within the `ProxSensor_c` class the following line of code, where the <a href=\"https://en.wikipedia.org/wiki/Euclidean_distance#:~:text=In%20mathematics%2C%20the%20Euclidean%20distance,being%20called%20the%20Pythagorean%20distance.\">euclidean distance</a> from the robot to the obstruction is calculated:\n",
        "\n",
        "```python\n",
        "    # See if the obstruction is within the detection\n",
        "    # range of the sensor.\n",
        "    distance = np.sqrt( ((obstruction.x - self.x)**2) + ((obstruction.y - self.y)**2) )\n",
        "```\n",
        "\n",
        "This means that our simulated sensor reading is the exact distance between the sensor and the obstruction.  If we were to produce a graph of the way the simulated sensor currently responds, it would look like:\n",
        "\n",
        "<p align=\"center\">\n",
        "<img src=\"https://github.com/paulodowd/GoogleColab_Simple2DSimulator/blob/main/images/sim_sensor_response.png?raw=true\">\n",
        "</p>"
      ]
    },
    {
      "cell_type": "markdown",
      "metadata": {
        "id": "j1F_l7wl_HYr"
      },
      "source": [
        "\n",
        "In reality, sensors rarely work this way or this well.  "
      ]
    },
    {
      "cell_type": "markdown",
      "metadata": {
        "id": "QU2SESAt-aoa"
      },
      "source": [
        "\n",
        "## The Pololu SDS02A Datasheet"
      ]
    },
    {
      "cell_type": "markdown",
      "metadata": {
        "id": "FQ294EtN8xab"
      },
      "source": [
        "<p align=\"center\">\n",
        "<img src=\"https://a.pololu-files.com/picture/0J5782.600x480.jpg?d0dc29ca33bde495d7507411e2fa3a8d\" width=\"25%\">\n",
        "</p>\n",
        "\n",
        "We are going to construct a simple model of the Pololu SDS02A Sensor pictured above (<a href=\"https://www.pololu.com/product/2476\">product page</a>).  \n",
        "\n",
        "We can view the official datasheet (<a href=\"https://www.pololu.com/file/0J812/gp2y0a60szxf_e.pdf\">here</a>) for this sensor and find the following graph.  This graph shows how the voltage of the sensor varies with respect to it's distance to an object:\n",
        "\n",
        "<p align=\"center\">\n",
        "<img src=\"https://github.com/paulodowd/GoogleColab_Simple2DSimulator/blob/main/images/sds02a_response.png?raw=true\" width=\"75%\">\n",
        "</p>\n",
        "\n",
        "First of all, **this looks very different to our current simulated response!**\n",
        "\n",
        "We can read the above graph as:\n",
        " > \"sensor output voltage decreases non-linearly with respect to an increasing distance\"\n",
        "\n",
        "Some things to immediately notice are that:\n",
        "- the sensor output is a voltage, not a unit of distance.\n",
        "  - with a real robot, we might have to use an analog-to-digital converter (see, <a href=\"https://learn.sparkfun.com/tutorials/analog-to-digital-conversion/all\">SparkFun</a>, <a href=\"https://en.wikipedia.org/wiki/Analog-to-digital_converter\">Wikipedia</a>) to record the sensor output into computer memory.\n",
        "- the response is not linear, meaning the amount the voltage varies with respect to distance is not constant.\n",
        "- the data has been captured against white paper, which means we should expect it to vary against other surfaces and conditions.\n",
        "- the graph doesn't tell us what happens at values less than 10cm, or greater than 150cm.\n",
        "\n",
        "\n",
        "\n",
        "When we find information like this inside datasheets, it is important to test our own hardware to see how it performs within our own robotic system.  "
      ]
    },
    {
      "cell_type": "markdown",
      "metadata": {
        "id": "UpUl0PT3pCKm"
      },
      "source": [
        "## SDS02A Real Data Measurements\n",
        "\n",
        "The following section investigates real data captured from the Pololu SDS02A sensor.  These have been read by a 10-bit ADC, meaning that the voltage values of the sensor are encoded as a digital value in the range [ 0 : 1023 ].\n",
        "\n",
        "The data has been stored in a file on GitHub as \"comma separated values\", a .csv file.  You can view the file <a href=\"https://raw.githubusercontent.com/paulodowd/GoogleColab_Simple2DSimulator/main/prox_data.csv\">here</a>.  \n",
        "\n"
      ]
    },
    {
      "cell_type": "code",
      "metadata": {
        "colab": {
          "base_uri": "https://localhost:8080/",
          "height": 388
        },
        "id": "lTViXA9H5U--",
        "outputId": "c59a21ad-2f48-43d5-efcf-658d8fc4a55d"
      },
      "source": [
        "%matplotlib inline\n",
        "import matplotlib.pyplot as plt\n",
        "import pandas as pd\n",
        "\n",
        "# This reads a CSV file from Github which contains \n",
        "Data=pd.read_csv('https://raw.githubusercontent.com/paulodowd/GoogleColab_Simple2DSimulator/main/prox_processed.csv')\n",
        "\n",
        "fig = plt.figure(figsize=(8,6))\n",
        "\n",
        "x = Data.loc[:, 'Distance']\n",
        "y = Data.loc[:, 'Mean']\n",
        "\n",
        "plt.plot(x, y, '-')\n",
        "\n"
      ],
      "execution_count": 70,
      "outputs": [
        {
          "output_type": "execute_result",
          "data": {
            "text/plain": [
              "[<matplotlib.lines.Line2D at 0x7f13486d81d0>]"
            ]
          },
          "metadata": {
            "tags": []
          },
          "execution_count": 70
        },
        {
          "output_type": "display_data",
          "data": {
            "image/png": "[encoded data removed]",
            "text/plain": [
              "<Figure size 576x432 with 1 Axes>"
            ]
          },
          "metadata": {
            "tags": [],
            "needs_background": "light"
          }
        }
      ]
    },
    {
      "cell_type": "code",
      "metadata": {
        "id": "090hHLT67c2y",
        "colab": {
          "base_uri": "https://localhost:8080/",
          "height": 421
        },
        "outputId": "131a2f40-198e-4734-90ad-4a39ab7a1c28"
      },
      "source": [
        "%matplotlib inline\n",
        "import matplotlib.pyplot as plt\n",
        "import seaborn as sns\n",
        "import pandas as pd\n",
        "\n",
        "# This reads a CSV file from Github which contains the raw sensor data\n",
        "Data=pd.read_csv('https://raw.githubusercontent.com/paulodowd/GoogleColab_Simple2DSimulator/main/prox_data.csv')\n",
        "\n",
        "# Generate a plot of the signal (measurement) against the distance.\n",
        "sns.relplot(x=\"Distance\", y=\"Signal\", kind=\"line\", ci=\"sd\", data=Data);\n",
        "\n",
        "import numpy.polynomial.polynomial as poly\n",
        "\n",
        "#print( Data.loc[:, 'Distance'] )\n",
        "x = Data.loc[:, 'Distance']\n",
        "y = Data.loc[:, 'Signal']\n",
        "coefs = poly.polyfit(x, y, 5)\n",
        "\n",
        "# https://stackoverflow.com/questions/18767523/fitting-data-with-numpy\n",
        "# In general: np.polynomial.polynomial.polyfit returns coefficients [A, B, C] to A + Bx + Cx^2 + ...\n",
        "# print the co-efficients where:\n",
        "# g(x) = A + Bx + Cx^2 + Dx^3 + Ex^4 + Fx^5\n",
        "# This might be useful :)\n",
        "# https://www.calculatorsoup.com/calculators/math/scientific-notation-converter.php\n",
        "#\n",
        "\n",
        "\n",
        "# create a higher resolution of x-series points to process\n",
        "# the polynomial fit.\n",
        "x_new = np.linspace( 0, max( Data.loc[:,'Distance']), 100 )\n",
        "\n",
        "# We can manually generate the points of the poly fit\n",
        "# curve using \n",
        "# g(x) = A + Bx + Cx^2 + Dx^3 + Ex^4 + Fx^5\n",
        "#\n",
        "# y_new = []\n",
        "# for i in range( len( x_new ) ):\n",
        "#   y_new.append( 215.860810 + \n",
        "#               ( 30.8818528 * x_new[i]) + \n",
        "#               (-0.490831337 * (x_new[i]**2) ) +\n",
        "#               (0.00307397197 * (x_new[i]**3) ) +\n",
        "#               (-0.00000870724210 * (x_new[i]**4) ) +\n",
        "#               (0.00000000922678754 * (x_new[i]**5) ) )\n",
        "#\n",
        "# plt.plot(x_new, y_new, c=\"orange\")\n",
        "\n",
        "ffit = poly.polyval(x_new, coefs)\n",
        "plt.plot(x_new, ffit, c=\"red\")\n",
        "\n",
        "\n",
        "# Print out the co-efficients of the poly fit curve\n",
        "print( \"Poly fit co-efficients:\", coefs )\n"
      ],
      "execution_count": 74,
      "outputs": [
        {
          "output_type": "stream",
          "text": [
            "Poly fit co-efficients: [ 2.15860810e+02  3.08818528e+01 -4.90831337e-01  3.07397197e-03\n",
            " -8.70724210e-06  9.22678754e-09]\n"
          ],
          "name": "stdout"
        },
        {
          "output_type": "display_data",
          "data": {
            "image/png": "[encoded data removed]",
            "text/plain": [
              "<Figure size 360x360 with 1 Axes>"
            ]
          },
          "metadata": {
            "tags": [],
            "needs_background": "light"
          }
        }
      ]
    }
  ]
}