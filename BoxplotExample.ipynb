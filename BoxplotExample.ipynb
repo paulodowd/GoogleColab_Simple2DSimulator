{
  "nbformat": 4,
  "nbformat_minor": 0,
  "metadata": {
    "colab": {
      "name": "BoxplotExample.ipynb",
      "provenance": [],
      "authorship_tag": "ABX9TyO2BJjY/jMJsjneF8T32/Ts",
      "include_colab_link": true
    },
    "kernelspec": {
      "name": "python3",
      "display_name": "Python 3"
    },
    "language_info": {
      "name": "python"
    }
  },
  "cells": [
    {
      "cell_type": "markdown",
      "metadata": {
        "id": "view-in-github",
        "colab_type": "text"
      },
      "source": [
        "<a href=\"https://colab.research.google.com/github/paulodowd/GoogleColab_Simple2DSimulator/blob/main/BoxplotExample.ipynb\" target=\"_parent\"><img src=\"https://colab.research.google.com/assets/colab-badge.svg\" alt=\"Open In Colab\"/></a>"
      ]
    },
    {
      "cell_type": "code",
      "metadata": {
        "colab": {
          "base_uri": "https://localhost:8080/",
          "height": 284
        },
        "id": "WUy8k3-sKbQp",
        "outputId": "141c5f99-4e45-482e-ab31-288984a5d9f7"
      },
      "source": [
        "#\n",
        "# If you want to make a boxplot of your score\n",
        "# and your friends scrore...\n",
        "\n",
        "\n",
        "# Add your scores into arrays, like this:\n",
        "my_results = [20.1, 44.1, -33.3, 55.6]\n",
        "friends_results = [10.1, -12.4, -55.5, -66.1]\n",
        "\n",
        "# We will use a library called Seaborn to \n",
        "# make our box plot for us, so we import it.\n",
        "import seaborn as sns\n",
        "\n",
        "# To graph one set of data is very easy:\n",
        "# note, data=my_results!\n",
        "sns.boxplot(data=my_results)\n",
        "\n",
        "# If you only have 1 set of data, you can\n",
        "# stop  here :)\n",
        "\n",
        "\n",
        "# To graph more than one dataset is a little \n",
        "# more complicated.  We need to format the\n",
        "# data into 'dataframes'.  We use the pandas\n",
        "# library to do this for us.  Import pandas:\n",
        "import pandas as pd\n",
        "\n",
        "# We use the .DataFrame() function to apply a \n",
        "# label to each array of results\n",
        "my_df = pd.DataFrame({'mine':my_results})\n",
        "friends_df = pd.DataFrame({'friends':friends_results})\n",
        "\n",
        "# We then add the two dataframes together.\n",
        "combined = pd.concat([my_df, friends_df], axis=0)\n",
        "\n",
        "# We can now plot both datasets at the same time.\n",
        "# Note, data=combined!\n",
        "sns.boxplot(data=combined)"
      ],
      "execution_count": 1,
      "outputs": [
        {
          "output_type": "execute_result",
          "data": {
            "text/plain": [
              "<matplotlib.axes._subplots.AxesSubplot at 0x7f8836172e50>"
            ]
          },
          "metadata": {
            "tags": []
          },
          "execution_count": 1
        },
        {
          "output_type": "display_data",
          "data": {
            "image/png": "[encoded data removed]",
            "text/plain": [
              "<Figure size 432x288 with 1 Axes>"
            ]
          },
          "metadata": {
            "tags": [],
            "needs_background": "light"
          }
        }
      ]
    }
  ]
}