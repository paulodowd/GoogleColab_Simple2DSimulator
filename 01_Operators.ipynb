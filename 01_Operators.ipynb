{
 "cells": [
  {
   "cell_type": "markdown",
   "metadata": {
    "slideshow": {
     "slide_type": "slide"
    }
   },
   "source": [
    "# 1 Operators\n",
    "\n",
    "<br> <a href='#ArithmeticOperators'>1.1 Arithmetic Operators</a> \n",
    "<br> <a href='#ComparisonOperators'>1.2 Comparison Operators</a> \n",
    "<br> <a href='#LogicalOperators'>1.3 Logical Operators</a>"
   ]
  },
  {
   "cell_type": "markdown",
   "metadata": {
    "collapsed": true,
    "slideshow": {
     "slide_type": "slide"
    }
   },
   "source": [
    "### Fundamental programming concepts\n",
    " - Performing basic calculations\n",
    " - Making comparisons between variables\n",
    " - Using comparisons and other Boolean `True` or `False` values to form logic statements\n"
   ]
  },
  {
   "cell_type": "markdown",
   "metadata": {
    "slideshow": {
     "slide_type": "slide"
    }
   },
   "source": [
    "###### Data Types\n",
    " - We can *assign* values to variables.\n",
    " - Every variable has a type (`int`, `float`, `string`....).\n",
    " - A type is automatically assigned when a variable is created. \n",
    " - Python's `type()` function can be used to determine the type of a variable.\n",
    " - The data type of a variable can be converted by casting (`int()`, `float()`....) "
   ]
  },
  {
   "cell_type": "code",
   "execution_count": 8,
   "metadata": {},
   "outputs": [
    {
     "name": "stdout",
     "output_type": "stream",
     "text": [
      "1 <class 'int'>\n",
      "1.0 <class 'float'>\n",
      "1 <class 'str'>\n",
      "1 <class 'int'>\n"
     ]
    }
   ],
   "source": [
    "A = 1 \n",
    "print(A, type(A))\n",
    "\n",
    "B = 1.0 \n",
    "print(B, type(B))\n",
    "\n",
    "C = '1'\n",
    "print(C, type(C))\n",
    "\n",
    "# converting from a floating point number to an integer\n",
    "D = int(B)\n",
    "print(D, type(D))"
   ]
  },
  {
   "cell_type": "markdown",
   "metadata": {
    "slideshow": {
     "slide_type": "slide"
    }
   },
   "source": [
    "<a id='ArithmeticOperators'></a>\n",
    "# 1.1. Arithmetic Operators\n",
    "\n",
    "__Arithmetic operators__ (+, -, /, * ....) are used with numeric values to perform common mathematical operations.\n"
   ]
  },
  {
   "cell_type": "markdown",
   "metadata": {
    "slideshow": {
     "slide_type": "slide"
    }
   },
   "source": [
    "## Volume of a Cone\n",
    "The volume of a cone is:\n",
    "$$\n",
    "V = \\frac{Ah}{3}\n",
    "$$\n",
    "\n",
    "where:\n",
    "<br>$A=$ base area\n",
    "<br>$h=$ perpendicular height\n",
    "\n",
    "![title](img/cone.png)\n",
    "\n"
   ]
  },
  {
   "cell_type": "markdown",
   "metadata": {
    "slideshow": {
     "slide_type": "slide"
    }
   },
   "source": [
    "Find the volume of a cone with:\n",
    "<br>$r = 5\\textrm{cm}$ (base radius)\n",
    "<br>$h = 15 \\textrm{cm} $\n",
    "\n",
    "$$\n",
    "V = \\frac{Ah}{3}\n",
    "$$"
   ]
  },
  {
   "cell_type": "code",
   "execution_count": 26,
   "metadata": {},
   "outputs": [
    {
     "name": "stdout",
     "output_type": "stream",
     "text": [
      "392.75\n"
     ]
    }
   ],
   "source": [
    "pi = 3.142\n",
    "r = 5\n",
    "h = 15\n",
    "\n",
    "A = pi * r**2\n",
    "\n",
    "V = A * h / 3\n",
    "\n",
    "print(V) # Print V measured in cm3"
   ]
  },
  {
   "cell_type": "markdown",
   "metadata": {
    "collapsed": true,
    "slideshow": {
     "slide_type": "slide"
    }
   },
   "source": [
    "## Gravitational Potential Energy\n",
    "\n"
   ]
  },
  {
   "cell_type": "markdown",
   "metadata": {},
   "source": [
    "\n",
    "The gravitational potential energy, $U$ between two objects in a vacuum:\n",
    "\n",
    "\n",
    "$$\n",
    "U = \\frac{G M_1  M_2}{r}\n",
    "$$\n",
    "\n",
    "\n",
    "$M_1 = $mass of object 1\n",
    "<br>$M_2 = $mass of object 2\n",
    "<br>$r = $distance between objects 1 and 2\n",
    "<br>$G$ = gravitational constant = $6.673 \\times 10^{-11}             (\\textrm{Nm}^{2}\\textrm{kg}^{-2})$.\n",
    "\n",
    "\n",
    "```python\n",
    "U = (G * M1  * M2) / r\n",
    "```\n",
    "\n"
   ]
  },
  {
   "cell_type": "markdown",
   "metadata": {
    "slideshow": {
     "slide_type": "slide"
    }
   },
   "source": [
    "Find, $U$ when:\n",
    "    \n",
    "$M_1 = 1.65 \\times 10^{12}\\textrm{ kg}$\n",
    "<br>$M_2 = 6.1 \\times 10^2\\textrm{ kg}$\n",
    "<br>$r = 7 \\textrm{ km}$\n",
    "\n",
    "$G$ = $6.673 \\times 10^{-11}$\n",
    "\n",
    "Before solving, assign values to variables representing $G, M_1, M_2, r$. \n",
    "<br>Express the numbers using __scientific notation__."
   ]
  },
  {
   "cell_type": "code",
   "execution_count": 9,
   "metadata": {},
   "outputs": [],
   "source": [
    "M1 = 1.65 * 10e12\n",
    "M2 = 6.1 * 10e2\n",
    "r = 7 * 10e3\n",
    "G = 6.674 * 10e-11\n",
    "\n",
    "V = (G * M1 * M2) / r"
   ]
  },
  {
   "cell_type": "markdown",
   "metadata": {},
   "source": [
    "The `print` function can be used to display the output"
   ]
  },
  {
   "cell_type": "code",
   "execution_count": 17,
   "metadata": {
    "scrolled": true,
    "slideshow": {
     "slide_type": "slide"
    }
   },
   "outputs": [
    {
     "name": "stdout",
     "output_type": "stream",
     "text": [
      "U =959.6258571428574 Joules\n",
      "U = 959.6258571428574 Joules\n",
      "U = 959.626 Joules\n"
     ]
    }
   ],
   "source": [
    "print(\"U =\" + str(V) + \" Joules\")\n",
    "\n",
    "print(f\"U = {V} Joules\")\n",
    "\n",
    "print(f\"U = {round(V,3)} Joules\")"
   ]
  },
  {
   "cell_type": "markdown",
   "metadata": {
    "slideshow": {
     "slide_type": "slide"
    }
   },
   "source": [
    "<a id='ComparisonOperators'></a>\n",
    "# 1.2. Comparison Operators\n",
    "\n",
    "__Comparison operators__ (==, !=, <, > ....) compare two *variables*.\n",
    "\n",
    "__Commonly used comparison operators:__\n",
    "\n",
    "$==$   &nbsp; &nbsp; &nbsp; &nbsp; &nbsp;         Equality <br>\n",
    "$!=$   &nbsp; &nbsp; &nbsp; &nbsp; &nbsp;         Inequality <br>\n",
    "$>$    &nbsp; &nbsp; &nbsp; &nbsp; &nbsp; &nbsp;  Greater than <br>\n",
    "$<$    &nbsp; &nbsp; &nbsp; &nbsp; &nbsp; &nbsp;  Less than <br>\n",
    "$>=$   &nbsp; &nbsp; &nbsp; &nbsp;         Greater than or equal to <br>\n",
    "$<=$   &nbsp; &nbsp; &nbsp; &nbsp;         Less than or equal to <br>\n"
   ]
  },
  {
   "cell_type": "markdown",
   "metadata": {
    "slideshow": {
     "slide_type": "slide"
    }
   },
   "source": [
    "__Examples:__\n",
    "\n",
    "$10 < 9$   &nbsp; &nbsp;&nbsp; &nbsp;  is false\n",
    "\n",
    "$15 < 20$  &nbsp; &nbsp;                is true"
   ]
  },
  {
   "cell_type": "code",
   "execution_count": 18,
   "metadata": {},
   "outputs": [
    {
     "name": "stdout",
     "output_type": "stream",
     "text": [
      "False\n"
     ]
    }
   ],
   "source": [
    "print(10 < 9)"
   ]
  },
  {
   "cell_type": "code",
   "execution_count": 19,
   "metadata": {},
   "outputs": [
    {
     "name": "stdout",
     "output_type": "stream",
     "text": [
      "True\n"
     ]
    }
   ],
   "source": [
    "print(15 < 20)"
   ]
  },
  {
   "cell_type": "markdown",
   "metadata": {
    "slideshow": {
     "slide_type": "slide"
    }
   },
   "source": [
    "<a id='LogicalOperators'></a>\n",
    "# 1.3. Logical Operators\n",
    "\n",
    "The comparisons we have looked at so far consider two variables.\n",
    "\n",
    "*Logical operators*:\n",
    "\n",
    "> ```python \n",
    "  and\n",
    "  or\n",
    "  not\n",
    "  ```\n",
    "  \n",
    "allow us to make multiple comparisons at the same time.\n",
    "\n",
    "\n",
    "\n"
   ]
  },
  {
   "cell_type": "markdown",
   "metadata": {
    "slideshow": {
     "slide_type": "slide"
    }
   },
   "source": [
    "The code\n",
    "```python\n",
    "X and Y\n",
    "```\n",
    "will evaluate to `True` if statement `X` *and* statement `Y` are both true.\n",
    "\n",
    "Otherwise will evaluate to `False`. \n",
    "\n"
   ]
  },
  {
   "cell_type": "markdown",
   "metadata": {
    "slideshow": {
     "slide_type": "slide"
    }
   },
   "source": [
    "The code\n",
    "```python\n",
    "X or Y\n",
    "```\n",
    "will evaluate to `True` if statement `X` *or* statement `Y` is true. \n",
    "\n",
    "Otherwise will evaluate to `False`."
   ]
  },
  {
   "cell_type": "markdown",
   "metadata": {
    "slideshow": {
     "slide_type": "slide"
    }
   },
   "source": [
    "__Examples:__\n",
    "\n",
    "$10 < 9$   &nbsp; &nbsp;&nbsp; &nbsp;  is false\n",
    "\n",
    "$15 < 20$  &nbsp; &nbsp;                is true"
   ]
  },
  {
   "cell_type": "code",
   "execution_count": 20,
   "metadata": {},
   "outputs": [
    {
     "name": "stdout",
     "output_type": "stream",
     "text": [
      "False\n"
     ]
    }
   ],
   "source": [
    "print(10 < 9 and 15 < 20)"
   ]
  },
  {
   "cell_type": "code",
   "execution_count": 21,
   "metadata": {},
   "outputs": [
    {
     "name": "stdout",
     "output_type": "stream",
     "text": [
      "True\n"
     ]
    }
   ],
   "source": [
    "print(10 < 9 or 15 < 20)"
   ]
  },
  {
   "cell_type": "markdown",
   "metadata": {
    "slideshow": {
     "slide_type": "slide"
    }
   },
   "source": [
    "In Python, the 'not' operator negates a statement, e.g.:"
   ]
  },
  {
   "cell_type": "code",
   "execution_count": 22,
   "metadata": {},
   "outputs": [
    {
     "name": "stdout",
     "output_type": "stream",
     "text": [
      "False\n",
      "True\n"
     ]
    }
   ],
   "source": [
    "a = 12\n",
    "b = 7\n",
    "print(a < b)\n",
    "print(not a < b)"
   ]
  },
  {
   "cell_type": "markdown",
   "metadata": {
    "slideshow": {
     "slide_type": "slide"
    }
   },
   "source": [
    "<a id='TimeTelling'></a>\n",
    "## Time-telling Example\n",
    "\n",
    "Let's write a simple computer program that uses these comparison and logical operators.\n",
    "\n",
    "Based on the current time of day, the program will answer two questions..."
   ]
  },
  {
   "cell_type": "markdown",
   "metadata": {
    "slideshow": {
     "slide_type": "slide"
    }
   },
   "source": [
    ">__Is it lunchtime?__\n",
    "\n",
    ">`True`\n",
    "\n",
    "if it is lunch time.\n",
    "\n",
    "<br>\n",
    "\n",
    ">__Is it time for work?__\n",
    "\n",
    ">`True`\n",
    "\n",
    "if it is `not`:\n",
    "- before work (`time < work_starts`)\n",
    "- after work (`time > work_ends `)\n",
    "- lunchtime (the previous question assigns the value `True` or `False` to the variable `lunchtime`)."
   ]
  },
  {
   "cell_type": "code",
   "execution_count": 23,
   "metadata": {
    "slideshow": {
     "slide_type": "slide"
    }
   },
   "outputs": [
    {
     "name": "stdout",
     "output_type": "stream",
     "text": [
      "Is it work time?\n",
      "Is it lunchtime?\n"
     ]
    }
   ],
   "source": [
    "# Example : Time-telling program\n",
    "\n",
    "time = 9.00          # current time\n",
    "\n",
    "work_starts = 8.00    # time work starts \n",
    "work_ends =  17.00    # time work ends\n",
    "\n",
    "lunch_starts = 13.00  # time lunch starts\n",
    "lunch_ends =   14.00  # time lunch ends\n",
    "\n",
    "# lunchtime if the time is between the start and end of lunchtime\n",
    "\n",
    "\n",
    "# work_time if the time is not...\n",
    "# ... before work\n",
    "# ... or after work\n",
    "# ... or lunchtime            \n",
    "                 \n",
    "\n",
    "print(\"Is it work time?\")\n",
    "\n",
    "\n",
    "print(\"Is it lunchtime?\")"
   ]
  },
  {
   "cell_type": "code",
   "execution_count": 24,
   "metadata": {
    "slideshow": {
     "slide_type": "slide"
    }
   },
   "outputs": [
    {
     "name": "stdout",
     "output_type": "stream",
     "text": [
      "Is it lunchtime?\n",
      "False\n",
      "Is it work time?\n",
      "True\n"
     ]
    }
   ],
   "source": [
    "# Example : Time-telling program\n",
    "# Example solution\n",
    "\n",
    "time = 17.00          # current time\n",
    "\n",
    "work_starts = 8.00    # time work starts \n",
    "work_ends =  17.00    # time work ends\n",
    "\n",
    "lunch_starts = 13.00  # time lunch starts\n",
    "lunch_ends =   14.00  # time lunch ends\n",
    "\n",
    "# lunchtime if the time is between the start and end of lunchtime\n",
    "lunchtime = time >= lunch_starts and time < lunch_ends\n",
    "\n",
    "\n",
    "\n",
    "# work_time if the time is not...  \n",
    "work_time = not (   time < work_starts     # ... before work\n",
    "                 or time > work_ends       # ... or after work\n",
    "                 or lunchtime)             # ... or lunchtime\n",
    "                 \n",
    "\n",
    "print(\"Is it lunchtime?\")\n",
    "print(lunchtime)\n",
    "\n",
    "print(\"Is it work time?\")\n",
    "print(work_time)\n"
   ]
  },
  {
   "cell_type": "markdown",
   "metadata": {
    "slideshow": {
     "slide_type": "slide"
    }
   },
   "source": [
    "If we change the value of `time`, the program output changes. "
   ]
  },
  {
   "cell_type": "markdown",
   "metadata": {
    "slideshow": {
     "slide_type": "slide"
    }
   },
   "source": [
    "Note that the comparison operators (`>=`, `<=`, `<` and `>`) are evaluated before the Boolean operators (`and`, `or`).\n",
    "<a id='OperatorPrecedence'></a>\n",
    "### Operator Precedence\n",
    "\n",
    "\n",
    "> 1. Parentheses\n",
    "1. Exponents \n",
    "1. Multiplication, Division, Floor Division and Modulo (left to right)\n",
    "1. Addition and Subtraction (left to right)\n",
    "1. Comparison Operators (left to right)\n",
    "1. Boolean not\n",
    "1. Boolean and\n",
    "1. Boolean or"
   ]
  },
  {
   "cell_type": "markdown",
   "metadata": {
    "slideshow": {
     "slide_type": "slide"
    }
   },
   "source": [
    "<a id='StackingBooleanOperators'></a>\n",
    "###  Stacking Boolean Operators\n",
    "\n",
    "\n",
    "Extract from time-telling program:\n",
    "\n",
    "```python\n",
    "\n",
    "time = 13.05          # current time\n",
    "lunch_starts = 13.00  # time lunch starts\n",
    "lunch_ends =   14.00  # time lunch ends\n",
    "\n",
    "lunchtime = time >= lunch_starts and time < lunch_ends\n",
    "\n",
    "print(\"Is it lunchtime?\")\n",
    "print(lunchtime)\n",
    "\n",
    "```\n",
    "\n",
    "We can rewrite the line: \n",
    "```python\n",
    "lunchtime = time >= lunch_starts and time <= lunch_ends \n",
    "\n",
    "``` \n",
    "to *stack* the logical operations:  \n",
    "\n",
    "```python\n",
    "lunchtime = lunch_starts <= time < lunch_ends\n",
    "\n",
    "\n",
    "```"
   ]
  },
  {
   "cell_type": "markdown",
   "metadata": {},
   "source": [
    "### Summary\n",
    " - __Arithmetic operators__ (+, -, /, * ....) are used with numeric values to perform common mathematical operations.\n",
    " - __Comparison operators__ (==, !=, <, > ....) compare two *variables*.\n",
    " - The outcome of a comparison is a *Boolean* (True or False) value.\n",
    " - __Logical operators__ (`and`, `or`) compare Boolean `True` or `False` values, such as the outcomes of two *comparison operations*, to form logic statements.\n",
    " - The outcome of a logical operation is a *Boolean* (True or False) value.\n",
    " - The logical `not` operator returns the inverse Boolean value of a comparison.\n",
    " "
   ]
  }
 ],
 "metadata": {
  "celltoolbar": "Slideshow",
  "kernelspec": {
   "display_name": "Python 3",
   "language": "python",
   "name": "python3"
  },
  "language_info": {
   "codemirror_mode": {
    "name": "ipython",
    "version": 3
   },
   "file_extension": ".py",
   "mimetype": "text/x-python",
   "name": "python",
   "nbconvert_exporter": "python",
   "pygments_lexer": "ipython3",
   "version": "3.8.3"
  }
 },
 "nbformat": 4,
 "nbformat_minor": 2
}
