{
 "cells": [
  {
   "cell_type": "markdown",
   "metadata": {
    "slideshow": {
     "slide_type": "slide"
    }
   },
   "source": [
    "# 02 Control Flow"
   ]
  },
  {
   "cell_type": "markdown",
   "metadata": {
    "collapsed": true,
    "slideshow": {
     "slide_type": "slide"
    }
   },
   "source": [
    "### Fundamental programming concepts\n",
    "Making decisions within a program to direct the flow\n"
   ]
  },
  {
   "cell_type": "markdown",
   "metadata": {
    "slideshow": {
     "slide_type": "slide"
    }
   },
   "source": [
    "<a id='ControlStatements'></a>\n",
    "## Control Statements\n",
    "\n",
    " \n",
    "\n",
    "What is a *__control statement__*?\n",
    "\n",
    "Let's start with an example you are already familiar with..."
   ]
  },
  {
   "cell_type": "markdown",
   "metadata": {
    "slideshow": {
     "slide_type": "slide"
    }
   },
   "source": [
    "\n",
    "Considerthe time-telling computer program that returned Boolean (True or False) values... \n",
    "\n"
   ]
  },
  {
   "cell_type": "markdown",
   "metadata": {
    "slideshow": {
     "slide_type": "slide"
    }
   },
   "source": [
    "### Time-telling program\n",
    "\n",
    "Based on the current time of day, the program answers two questions:\n",
    "\n",
    ">__Is it lunchtime?__\n",
    "\n",
    ">`True`\n",
    "\n",
    "if it is lunch time.\n",
    "\n",
    "<br>\n",
    "\n",
    ">__Is it time for work?__\n",
    "\n",
    ">`True`\n",
    "\n",
    "if it is `not`:\n",
    "- before work (`time < work_starts`)\n",
    "- after work (`time > work_ends `)\n",
    "- lunchtime (the previous question assigns the value `True` or `False` to variable `lunchtime`)."
   ]
  },
  {
   "cell_type": "code",
   "execution_count": 32,
   "metadata": {
    "slideshow": {
     "slide_type": "slide"
    }
   },
   "outputs": [
    {
     "name": "stdout",
     "output_type": "stream",
     "text": [
      "Is it work time? False\n",
      "Is it lunchtime? True\n"
     ]
    }
   ],
   "source": [
    "# Time-telling program\n",
    "\n",
    "time = 13.05          # current time\n",
    "\n",
    "work_starts = 8.00    # time work starts \n",
    "work_ends =  17.00    # time work ends\n",
    "\n",
    "lunch_starts = 13.00  # time lunch starts\n",
    "lunch_ends =   14.00  # time lunch ends\n",
    "\n",
    "# lunchtime if the time is between the start and end of lunchtime\n",
    "lunchtime = time >= lunch_starts and time < lunch_ends\n",
    "\n",
    "# work_time if the time is not...  \n",
    "work_time = not (   time < work_starts     # ... before work\n",
    "                 or time > work_ends       # ... or after work\n",
    "                 or lunchtime)             # ... or lunchtime\n",
    "                 \n",
    "\n",
    "print(f\"Is it work time? {work_time}\")\n",
    "print(f\"Is it lunchtime? {lunchtime}\")"
   ]
  },
  {
   "cell_type": "markdown",
   "metadata": {
    "slideshow": {
     "slide_type": "slide"
    }
   },
   "source": [
    "What if we now want our computer program to do something based on these answers?\n",
    "\n",
    "To do this, we need to use __control statements__.\n",
    "\n",
    "Control statements allow us to make decisions in a program.\n",
    "\n",
    "This decision making is known as __control flow__. \n",
    "\n",
    "Control statements are a fundamental part of programming."
   ]
  },
  {
   "cell_type": "markdown",
   "metadata": {
    "slideshow": {
     "slide_type": "slide"
    }
   },
   "source": [
    "Here is a control statement in pseudo code:\n",
    "\n",
    "This is an `if` statement.\n",
    "\n",
    "    if A is true    \n",
    "        Perform task X\n",
    "        \n",
    "For example \n",
    "\n",
    "    if lunchtime is true    \n",
    "        Eat lunch\n",
    "\n",
    "<p align=\"center\">\n",
    "  <img src=\"img/flow_diag_if_lunctime.png\" alt=\"Drawing\" style=\"width: 300px;\"/>\n",
    "</p>"
   ]
  },
  {
   "cell_type": "markdown",
   "metadata": {
    "slideshow": {
     "slide_type": "slide"
    }
   },
   "source": [
    "We can check if an alternative to the `if` statement is true using an `else if` statement.\n",
    "\n",
    "\n",
    "    if A is true\n",
    "        Perform task X (only)\n",
    "        \n",
    "    else if B is true\n",
    "        Perform task Y (only)\n",
    "        "
   ]
  },
  {
   "cell_type": "markdown",
   "metadata": {
    "slideshow": {
     "slide_type": "slide"
    }
   },
   "source": [
    "Example:\n",
    "\n",
    "    if lunchtime is true\n",
    "        Eat lunch\n",
    "        \n",
    "    else if work_time is true\n",
    "        Do work\n",
    "        \n",
    "<p align=\"center\">\n",
    "  <img src=\"img/flow_diag_if_lunctime_elif_work.png\" alt=\"Drawing\" style=\"width: 300px;\"/>\n",
    "</p>"
   ]
  },
  {
   "cell_type": "markdown",
   "metadata": {
    "slideshow": {
     "slide_type": "slide"
    }
   },
   "source": [
    "Often it is useful to include an `else` statement.\n",
    "\n",
    "If none of the `if` and `else if` statements are satisfied, the code following the `else` statement will be executed.\n",
    "\n",
    "    if A is true\n",
    "        Perform task X (only)\n",
    "        \n",
    "    else if B is true\n",
    "        Perform task Y (only)\n",
    "        \n",
    "    else   \n",
    "        Perform task Z (only)\n",
    "        \n",
    "\n",
    "\n",
    "\n"
   ]
  },
  {
   "cell_type": "markdown",
   "metadata": {
    "slideshow": {
     "slide_type": "slide"
    }
   },
   "source": [
    "    if lunchtime is true\n",
    "        Eat lunch\n",
    "        \n",
    "    else if work_time is true\n",
    "        Do work\n",
    "        \n",
    "    else   \n",
    "        Go home\n",
    "        \n",
    "<p align=\"center\">\n",
    "  <img src=\"img/flow_diag_if_lunctime_elif_work_else_home.png\" alt=\"Drawing\" style=\"width: 400px;\"/>\n",
    "</p>"
   ]
  },
  {
   "cell_type": "markdown",
   "metadata": {
    "slideshow": {
     "slide_type": "slide"
    }
   },
   "source": [
    "Let's get a better understanding of control flow statements by completing some examples. "
   ]
  },
  {
   "cell_type": "markdown",
   "metadata": {
    "collapsed": true,
    "slideshow": {
     "slide_type": "slide"
    }
   },
   "source": [
    "<a id='ifelse'></a>\n",
    "# `if` and `else` statements\n",
    "\n",
    "Here is what these control statements look like if we include them in the time-telling program...\n",
    "\n",
    "__Note:__ In Python, \"else if\" is written: `elif`"
   ]
  },
  {
   "cell_type": "code",
   "execution_count": 33,
   "metadata": {
    "slideshow": {
     "slide_type": "slide"
    }
   },
   "outputs": [
    {
     "name": "stdout",
     "output_type": "stream",
     "text": [
      "Eat lunch\n"
     ]
    }
   ],
   "source": [
    "# Time-telling program\n",
    "\n",
    "time = 13.05          # current time\n",
    "\n",
    "work_starts = 8.00    # time work starts \n",
    "work_ends =  17.00    # time work ends\n",
    "\n",
    "lunch_starts = 13.00  # time lunch starts\n",
    "lunch_ends =   14.00  # time lunch ends\n",
    "\n",
    "# variable lunchtime is True if the time is between the start and end of lunchtime\n",
    "lunchtime = time >= lunch_starts and time < lunch_ends\n",
    "\n",
    "# variable work_time is True if the time is not...  \n",
    "work_time = not (   time < work_starts     # ... before work\n",
    "                 or time > work_ends       # ... or after work\n",
    "                 or lunchtime)             # ... or lunchtime\n",
    "\n",
    "if lunchtime:  \n",
    "    print(\"Eat lunch\")\n",
    "        \n",
    "elif work_time: \n",
    "    print(\"Do work\")\n",
    "        \n",
    "else:   \n",
    "    print(\"Go home\")\n"
   ]
  },
  {
   "cell_type": "markdown",
   "metadata": {
    "slideshow": {
     "slide_type": "slide"
    }
   },
   "source": [
    "Here is another example, using algebraic operators to modify the value of an initial variable, `x`. \n",
    "\n",
    "The __modification of `x`__ and the __message printed__ depend on the initial value of `x`.\n",
    "\n",
    "<p align=\"center\">\n",
    "  <img src=\"img/alg_flow.png\" alt=\"Drawing\" style=\"width: 400px;\"/>\n",
    "</p>"
   ]
  },
  {
   "cell_type": "markdown",
   "metadata": {},
   "source": [
    "__Try it yourself__\n",
    "\n",
    "Try writing the program shown in the flow diagram using control statments in the cell below. \n",
    "\n",
    "A couple of lines of code are given to get you started. \n",
    "\n",
    "Change the value of `x` and re-run the cell to see the different paths the program can follow."
   ]
  },
  {
   "cell_type": "code",
   "execution_count": 34,
   "metadata": {
    "slideshow": {
     "slide_type": "slide"
    }
   },
   "outputs": [
    {
     "name": "stdout",
     "output_type": "stream",
     "text": [
      "Modified x =  -10.0\n"
     ]
    }
   ],
   "source": [
    "#Example : Modify input variable, `x`.\n",
    "\n",
    "x = -10.0  # Initial x value\n",
    "\n",
    "\n",
    "# x is greater than zero\n",
    "\n",
    "\n",
    "# x is less than zero\n",
    "\n",
    "\n",
    "# x is not less than zero and not greater than zero, therefore it must be zero\n",
    "\n",
    "print(\"Modified x = \", x)\n",
    "\n"
   ]
  },
  {
   "cell_type": "code",
   "execution_count": 35,
   "metadata": {
    "slideshow": {
     "slide_type": "slide"
    }
   },
   "outputs": [
    {
     "name": "stdout",
     "output_type": "stream",
     "text": [
      "Modified x =  11.0\n"
     ]
    }
   ],
   "source": [
    "# Example solution\n",
    "# Example : Modify input variable, `x`.\n",
    "\n",
    "x = -10.0  # Initial x value\n",
    "\n",
    "\n",
    "# x is greater than 10\n",
    "if x > 10:\n",
    "    x -= 20\n",
    "\n",
    "\n",
    "# x is less than 2\n",
    "elif x < 2:\n",
    "    x += 21\n",
    "\n",
    "\n",
    "# x is not less than 2 and not greater than 10\n",
    "else:\n",
    "    x *= 2.5\n",
    "\n",
    "print(\"Modified x = \", x)\n",
    "\n"
   ]
  },
  {
   "cell_type": "markdown",
   "metadata": {
    "slideshow": {
     "slide_type": "slide"
    }
   },
   "source": [
    "### Look carefully at the structure of the `if`, `elif`, `else`, control statement:\n",
    "\n",
    "\n",
    "__The control statement begins with an `if`__, followed by the expression to check.  <br> \n",
    " At the end of the `if` statement you must put a colon (`:`) <br> \n",
    "````python\n",
    "if x > 0.0:    \n",
    "````"
   ]
  },
  {
   "cell_type": "markdown",
   "metadata": {
    "slideshow": {
     "slide_type": "slide"
    }
   },
   "source": [
    "After the `if` statement, indent the code to be run in the case that the `if` statement is `True`. <br>\n",
    "\n",
    "\n",
    " To end the code to be run, simply stop indenting:\n",
    " \n",
    "````python\n",
    "if x > 0.0:\n",
    "    print('Initial x is greater than zero')\n",
    "    x -= 20.0\n",
    "````"
   ]
  },
  {
   "cell_type": "markdown",
   "metadata": {
    "slideshow": {
     "slide_type": "slide"
    }
   },
   "source": [
    "The indent can be any number of spaces.\n",
    "\n",
    "The number of spaces must be the same for all lines of code to be run if the `if` statement is True.\n",
    "\n",
    "Jupyter Notebooks automatically indent 4 spaces.\n",
    "\n",
    "This is considered best practise. "
   ]
  },
  {
   "cell_type": "markdown",
   "metadata": {
    "slideshow": {
     "slide_type": "subslide"
    }
   },
   "source": [
    " `if x > 0.0` is:\n",
    " - `True`:\n",
    "    - The indented code is executed.\n",
    "    - The control block is exited.\n",
    "    - The program moves past any subsequent `elif` or `else` statements.\n",
    "    <br>    \n",
    "    \n",
    "    \n",
    "  - `False`:\n",
    "  the program moves past the inented code to the next (non-indented) part of the program... <br>"
   ]
  },
  {
   "cell_type": "markdown",
   "metadata": {
    "slideshow": {
     "slide_type": "subslide"
    }
   },
   "source": [
    "In this the next (non-indented) part of the program is `elif` (else if).\n",
    "\n",
    "The elif statement is evaluated.\n",
    "\n",
    "(Notice that the code is structured in the same way as the `if` statement.):\n",
    "\n",
    "```python\n",
    "if x > 0.0:\n",
    "    print('Initial x is greater than zero')\n",
    "    x -= 20.0\n",
    "    \n",
    "elif x < 0.0:\n",
    "    print('Initial x is less than zero')\n",
    "    x += 21.0\n",
    "```  "
   ]
  },
  {
   "cell_type": "markdown",
   "metadata": {
    "slideshow": {
     "slide_type": "subslide"
    }
   },
   "source": [
    "`elif x < 0.0`:\n",
    "\n",
    "- `True`:\n",
    "    - The indented code is executed.\n",
    "    - The control block is exited. \n",
    "    - The program moves past any subsequent `elif` or `else` statements.\n",
    "    \n",
    "    \n",
    "- `False`:\n",
    "  the program moves past the indented code to the next (non-indented) part of the program. <br>\n",
    " \n",
    "\n",
    " "
   ]
  },
  {
   "cell_type": "markdown",
   "metadata": {
    "slideshow": {
     "slide_type": "subslide"
    }
   },
   "source": [
    "If none of the preceding `if` or `elif` stements are true.\n",
    "<br> e.g. in this example:\n",
    " - `x > 0.0` is `False` \n",
    " - `x < 0.0` is `False`\n",
    "\n",
    "the code following the `else` statement is executed.\n",
    "\n",
    "```python\n",
    "if x > 0.0:\n",
    "    print('Initial x is greater than zero')\n",
    "    x -= 20.0\n",
    "\n",
    "elif x < 0.0:\n",
    "    print('Initial x is less than zero')\n",
    "    x += 21.0\n",
    "\n",
    "else:\n",
    "    print('Initial x is not less than zero and not greater than zero, therefore it must be zero')\n",
    "```"
   ]
  },
  {
   "cell_type": "markdown",
   "metadata": {},
   "source": [
    "### Summary\n",
    "\n",
    " - The Python `if` keyword performs a conditional test on an expression for a Boolean value of True or False.\n",
    " - Alternatives to an `if` test are provided using `elif` and `else` tests.\n",
    "\n",
    " \n",
    " [*McGrath, Python in easy steps, 2013*]"
   ]
  }
 ],
 "metadata": {
  "kernelspec": {
   "display_name": "Python 3",
   "language": "python",
   "name": "python3"
  },
  "language_info": {
   "codemirror_mode": {
    "name": "ipython",
    "version": 3
   },
   "file_extension": ".py",
   "mimetype": "text/x-python",
   "name": "python",
   "nbconvert_exporter": "python",
   "pygments_lexer": "ipython3",
   "version": "3.8.3"
  }
 },
 "nbformat": 4,
 "nbformat_minor": 4
}
