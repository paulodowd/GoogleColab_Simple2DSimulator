{
  "nbformat": 4,
  "nbformat_minor": 0,
  "metadata": {
    "colab": {
      "name": "Sheet0_InfoGettingStarted",
      "provenance": [],
      "authorship_tag": "ABX9TyPe6c418qFQXfCDgemSct7G",
      "include_colab_link": true
    },
    "kernelspec": {
      "name": "python3",
      "display_name": "Python 3"
    },
    "language_info": {
      "name": "python"
    }
  },
  "cells": [
    {
      "cell_type": "markdown",
      "metadata": {
        "id": "view-in-github",
        "colab_type": "text"
      },
      "source": [
        "<a href=\"https://colab.research.google.com/github/paulodowd/GoogleColab_Simple2DSimulator/blob/main/Sheet0_InfoGettingStarted.ipynb\" target=\"_parent\"><img src=\"https://colab.research.google.com/assets/colab-badge.svg\" alt=\"Open In Colab\"/></a>"
      ]
    },
    {
      "cell_type": "code",
      "metadata": {
        "id": "MYjenW6e501z"
      },
      "source": [
        ""
      ],
      "execution_count": null,
      "outputs": []
    },
    {
      "cell_type": "markdown",
      "metadata": {
        "id": "6Nc7xvcw53gk"
      },
      "source": [
        "\n",
        "\n",
        "\n",
        "In this series of exercise sheets we are going to explore using a simple 2D simulator, and then learn how we can improve it.  By following these exercises, we are going to learn about:\n",
        "- Programming a controller for a simulated wheeled mobile robot.\n",
        "- The challenges faced when using a real sensor:\n",
        "  - Simulation & The Reality Gap.\n",
        "  - Developing a simple model of a Proximity Sensor.\n",
        "  - Noise & Error.\n",
        "- Evaluating a more robust controller for a robot."
      ]
    }
  ]
}